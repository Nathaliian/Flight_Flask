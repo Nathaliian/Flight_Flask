{
 "cells": [
  {
   "cell_type": "markdown",
   "id": "693ebbb8-ed93-4077-8e78-d469fe6f752d",
   "metadata": {},
   "source": [
    "## 1. Importing Libraries"
   ]
  },
  {
   "cell_type": "code",
   "execution_count": 7,
   "id": "237aab83-d09a-4a86-9252-e2a874cf27bf",
   "metadata": {},
   "outputs": [],
   "source": [
    "import numpy as np\n",
    "\n",
    "import pandas as pd\n",
    "\n",
    "import sklearn\n",
    "from sklearn.impute import SimpleImputer\n",
    "from sklearn.preprocessing import StandardScaler, OneHotEncoder\n",
    "from sklearn.pipeline import Pipeline\n",
    "from sklearn.compose import ColumnTransformer\n",
    "from sklearn.linear_model import LinearRegression\n",
    "from sklearn.svm import SVR\n",
    "from sklearn.ensemble import RandomForestRegressor\n",
    "from sklearn.metrics import r2_score\n",
    "from sklearn.model_selection import learning_curve\n",
    "\n",
    "from feature_engine.datetime import DatetimeFeatures\n",
    "\n",
    "from xgboost import XGBRegressor\n",
    "\n",
    "import joblib\n",
    "\n",
    "import matplotlib.pyplot as plt"
   ]
  },
  {
   "cell_type": "code",
   "execution_count": 8,
   "id": "d68cef22",
   "metadata": {},
   "outputs": [
    {
     "name": "stdout",
     "output_type": "stream",
     "text": [
      "Requirement already satisfied: scikit-learn in c:\\anaconda3\\envs\\flash_ml\\lib\\site-packages (0.24.2)\n",
      "Requirement already satisfied: joblib>=0.11 in c:\\anaconda3\\envs\\flash_ml\\lib\\site-packages (from scikit-learn) (1.0.1)\n",
      "Requirement already satisfied: scipy>=0.19.1 in c:\\anaconda3\\envs\\flash_ml\\lib\\site-packages (from scikit-learn) (1.5.2)\n",
      "Requirement already satisfied: numpy>=1.13.3 in c:\\anaconda3\\envs\\flash_ml\\lib\\site-packages (from scikit-learn) (1.19.2)\n",
      "Requirement already satisfied: threadpoolctl>=2.0.0 in c:\\anaconda3\\envs\\flash_ml\\lib\\site-packages (from scikit-learn) (2.2.0)\n",
      "Note: you may need to restart the kernel to use updated packages.\n"
     ]
    }
   ],
   "source": [
    "pip install --upgrade scikit-learn"
   ]
  },
  {
   "cell_type": "markdown",
   "id": "848a10ff-365f-4cb4-90d6-8c3f07d6f56a",
   "metadata": {},
   "source": [
    "## 2. Display Settings"
   ]
  },
  {
   "cell_type": "code",
   "execution_count": 9,
   "id": "7596b000-a1b3-4898-b8b3-d18807812986",
   "metadata": {},
   "outputs": [],
   "source": [
    "pd.set_option(\"display.max_columns\", None)"
   ]
  },
  {
   "cell_type": "code",
   "execution_count": 10,
   "id": "38f38b32-dc25-4cc1-b6fd-373a7ba1beb7",
   "metadata": {},
   "outputs": [
    {
     "ename": "TypeError",
     "evalue": "set_config() got an unexpected keyword argument 'transform_output'",
     "output_type": "error",
     "traceback": [
      "\u001b[1;31m---------------------------------------------------------------------------\u001b[0m",
      "\u001b[1;31mTypeError\u001b[0m                                 Traceback (most recent call last)",
      "\u001b[1;32m<ipython-input-10-9280adee0781>\u001b[0m in \u001b[0;36m<module>\u001b[1;34m\u001b[0m\n\u001b[1;32m----> 1\u001b[1;33m \u001b[0msklearn\u001b[0m\u001b[1;33m.\u001b[0m\u001b[0mset_config\u001b[0m\u001b[1;33m(\u001b[0m\u001b[0mtransform_output\u001b[0m\u001b[1;33m=\u001b[0m\u001b[1;34m\"default\"\u001b[0m\u001b[1;33m)\u001b[0m\u001b[1;33m\u001b[0m\u001b[1;33m\u001b[0m\u001b[0m\n\u001b[0m",
      "\u001b[1;31mTypeError\u001b[0m: set_config() got an unexpected keyword argument 'transform_output'"
     ]
    }
   ],
   "source": [
    "sklearn.set_config(transform_output=\"default\")"
   ]
  },
  {
   "cell_type": "markdown",
   "id": "fce0b908-6b3b-46aa-991e-0b700d90c088",
   "metadata": {},
   "source": [
    "## 3. Getting the Data"
   ]
  },
  {
   "cell_type": "code",
   "execution_count": null,
   "id": "2a20d9aa-2b18-4fc9-91d8-5d9fe603ac5b",
   "metadata": {},
   "outputs": [],
   "source": [
    "train_df = pd.read_csv(\"flight_train.csv\")\n",
    "val_df = pd.read_csv(\"flight_val.csv\")\n",
    "test_df = pd.read_csv(\"flight_test.csv\")"
   ]
  },
  {
   "cell_type": "code",
   "execution_count": null,
   "id": "e309c5e7-26ae-43b8-88ae-b7dc7a4d2c94",
   "metadata": {},
   "outputs": [
    {
     "data": {
      "text/html": [
       "<div>\n",
       "<style scoped>\n",
       "    .dataframe tbody tr th:only-of-type {\n",
       "        vertical-align: middle;\n",
       "    }\n",
       "\n",
       "    .dataframe tbody tr th {\n",
       "        vertical-align: top;\n",
       "    }\n",
       "\n",
       "    .dataframe thead th {\n",
       "        text-align: right;\n",
       "    }\n",
       "</style>\n",
       "<table border=\"1\" class=\"dataframe\">\n",
       "  <thead>\n",
       "    <tr style=\"text-align: right;\">\n",
       "      <th></th>\n",
       "      <th>airline</th>\n",
       "      <th>date_of_journey</th>\n",
       "      <th>source</th>\n",
       "      <th>destination</th>\n",
       "      <th>dep_time</th>\n",
       "      <th>arrival_time</th>\n",
       "      <th>duration</th>\n",
       "      <th>total_stops</th>\n",
       "      <th>additional_info</th>\n",
       "      <th>price</th>\n",
       "    </tr>\n",
       "  </thead>\n",
       "  <tbody>\n",
       "    <tr>\n",
       "      <th>0</th>\n",
       "      <td>Jet Airways</td>\n",
       "      <td>2019-06-21</td>\n",
       "      <td>Mumbai</td>\n",
       "      <td>Hyderabad</td>\n",
       "      <td>10:20:00</td>\n",
       "      <td>11:50:00</td>\n",
       "      <td>90</td>\n",
       "      <td>0.0</td>\n",
       "      <td>In-flight meal not included</td>\n",
       "      <td>4995</td>\n",
       "    </tr>\n",
       "    <tr>\n",
       "      <th>1</th>\n",
       "      <td>Air India</td>\n",
       "      <td>2019-05-18</td>\n",
       "      <td>Delhi</td>\n",
       "      <td>Cochin</td>\n",
       "      <td>09:00:00</td>\n",
       "      <td>07:40:00</td>\n",
       "      <td>1360</td>\n",
       "      <td>1.0</td>\n",
       "      <td>No Info</td>\n",
       "      <td>8372</td>\n",
       "    </tr>\n",
       "    <tr>\n",
       "      <th>2</th>\n",
       "      <td>Air India</td>\n",
       "      <td>2019-06-12</td>\n",
       "      <td>Kolkata</td>\n",
       "      <td>Banglore</td>\n",
       "      <td>09:10:00</td>\n",
       "      <td>11:05:00</td>\n",
       "      <td>1555</td>\n",
       "      <td>2.0</td>\n",
       "      <td>No Info</td>\n",
       "      <td>6117</td>\n",
       "    </tr>\n",
       "    <tr>\n",
       "      <th>3</th>\n",
       "      <td>Vistara</td>\n",
       "      <td>2019-04-01</td>\n",
       "      <td>Kolkata</td>\n",
       "      <td>Banglore</td>\n",
       "      <td>20:20:00</td>\n",
       "      <td>22:55:00</td>\n",
       "      <td>1595</td>\n",
       "      <td>1.0</td>\n",
       "      <td>No Info</td>\n",
       "      <td>7770</td>\n",
       "    </tr>\n",
       "    <tr>\n",
       "      <th>4</th>\n",
       "      <td>Vistara</td>\n",
       "      <td>2019-06-06</td>\n",
       "      <td>Kolkata</td>\n",
       "      <td>Banglore</td>\n",
       "      <td>17:00:00</td>\n",
       "      <td>10:45:00</td>\n",
       "      <td>1065</td>\n",
       "      <td>1.0</td>\n",
       "      <td>No Info</td>\n",
       "      <td>9187</td>\n",
       "    </tr>\n",
       "    <tr>\n",
       "      <th>...</th>\n",
       "      <td>...</td>\n",
       "      <td>...</td>\n",
       "      <td>...</td>\n",
       "      <td>...</td>\n",
       "      <td>...</td>\n",
       "      <td>...</td>\n",
       "      <td>...</td>\n",
       "      <td>...</td>\n",
       "      <td>...</td>\n",
       "      <td>...</td>\n",
       "    </tr>\n",
       "    <tr>\n",
       "      <th>635</th>\n",
       "      <td>Air Asia</td>\n",
       "      <td>2019-04-12</td>\n",
       "      <td>Banglore</td>\n",
       "      <td>Delhi</td>\n",
       "      <td>04:55:00</td>\n",
       "      <td>07:45:00</td>\n",
       "      <td>170</td>\n",
       "      <td>0.0</td>\n",
       "      <td>No Info</td>\n",
       "      <td>4282</td>\n",
       "    </tr>\n",
       "    <tr>\n",
       "      <th>636</th>\n",
       "      <td>Jet Airways</td>\n",
       "      <td>2019-05-09</td>\n",
       "      <td>Kolkata</td>\n",
       "      <td>Banglore</td>\n",
       "      <td>09:35:00</td>\n",
       "      <td>21:05:00</td>\n",
       "      <td>690</td>\n",
       "      <td>1.0</td>\n",
       "      <td>No Info</td>\n",
       "      <td>13067</td>\n",
       "    </tr>\n",
       "    <tr>\n",
       "      <th>637</th>\n",
       "      <td>Indigo</td>\n",
       "      <td>2019-05-15</td>\n",
       "      <td>Banglore</td>\n",
       "      <td>Delhi</td>\n",
       "      <td>06:05:00</td>\n",
       "      <td>08:50:00</td>\n",
       "      <td>165</td>\n",
       "      <td>0.0</td>\n",
       "      <td>No Info</td>\n",
       "      <td>4423</td>\n",
       "    </tr>\n",
       "    <tr>\n",
       "      <th>638</th>\n",
       "      <td>Multiple Carriers</td>\n",
       "      <td>2019-05-15</td>\n",
       "      <td>Delhi</td>\n",
       "      <td>Cochin</td>\n",
       "      <td>08:45:00</td>\n",
       "      <td>21:00:00</td>\n",
       "      <td>735</td>\n",
       "      <td>1.0</td>\n",
       "      <td>No Info</td>\n",
       "      <td>7670</td>\n",
       "    </tr>\n",
       "    <tr>\n",
       "      <th>639</th>\n",
       "      <td>Jet Airways</td>\n",
       "      <td>2019-05-21</td>\n",
       "      <td>Kolkata</td>\n",
       "      <td>Banglore</td>\n",
       "      <td>20:00:00</td>\n",
       "      <td>12:00:00</td>\n",
       "      <td>960</td>\n",
       "      <td>1.0</td>\n",
       "      <td>In-flight meal not included</td>\n",
       "      <td>10844</td>\n",
       "    </tr>\n",
       "  </tbody>\n",
       "</table>\n",
       "<p>640 rows × 10 columns</p>\n",
       "</div>"
      ],
      "text/plain": [
       "               airline date_of_journey    source destination  dep_time  \\\n",
       "0          Jet Airways      2019-06-21    Mumbai   Hyderabad  10:20:00   \n",
       "1            Air India      2019-05-18     Delhi      Cochin  09:00:00   \n",
       "2            Air India      2019-06-12   Kolkata    Banglore  09:10:00   \n",
       "3              Vistara      2019-04-01   Kolkata    Banglore  20:20:00   \n",
       "4              Vistara      2019-06-06   Kolkata    Banglore  17:00:00   \n",
       "..                 ...             ...       ...         ...       ...   \n",
       "635           Air Asia      2019-04-12  Banglore       Delhi  04:55:00   \n",
       "636        Jet Airways      2019-05-09   Kolkata    Banglore  09:35:00   \n",
       "637             Indigo      2019-05-15  Banglore       Delhi  06:05:00   \n",
       "638  Multiple Carriers      2019-05-15     Delhi      Cochin  08:45:00   \n",
       "639        Jet Airways      2019-05-21   Kolkata    Banglore  20:00:00   \n",
       "\n",
       "    arrival_time  duration  total_stops              additional_info  price  \n",
       "0       11:50:00        90          0.0  In-flight meal not included   4995  \n",
       "1       07:40:00      1360          1.0                      No Info   8372  \n",
       "2       11:05:00      1555          2.0                      No Info   6117  \n",
       "3       22:55:00      1595          1.0                      No Info   7770  \n",
       "4       10:45:00      1065          1.0                      No Info   9187  \n",
       "..           ...       ...          ...                          ...    ...  \n",
       "635     07:45:00       170          0.0                      No Info   4282  \n",
       "636     21:05:00       690          1.0                      No Info  13067  \n",
       "637     08:50:00       165          0.0                      No Info   4423  \n",
       "638     21:00:00       735          1.0                      No Info   7670  \n",
       "639     12:00:00       960          1.0  In-flight meal not included  10844  \n",
       "\n",
       "[640 rows x 10 columns]"
      ]
     },
     "execution_count": 20,
     "metadata": {},
     "output_type": "execute_result"
    }
   ],
   "source": [
    "train_df"
   ]
  },
  {
   "cell_type": "markdown",
   "id": "7d47a6f2-3b63-400e-a32b-cb176c9df24f",
   "metadata": {},
   "source": [
    "### 3.1 Split the Data"
   ]
  },
  {
   "cell_type": "code",
   "execution_count": 13,
   "id": "505dfb49-34b8-4644-9f65-ab765c5ea2da",
   "metadata": {},
   "outputs": [],
   "source": [
    "def split_data(data):\n",
    "\tX = data.drop(columns=\"price\")\n",
    "\ty = data.price.copy()\n",
    "\treturn (X, y)"
   ]
  },
  {
   "cell_type": "code",
   "execution_count": 14,
   "id": "8cd4095b-2925-4665-a2da-eb76fd9fa69c",
   "metadata": {},
   "outputs": [],
   "source": [
    "X_train, y_train = split_data(train_df)"
   ]
  },
  {
   "cell_type": "code",
   "execution_count": 15,
   "id": "fd82276f-f04f-4d4b-9114-f4a1298b67b1",
   "metadata": {},
   "outputs": [
    {
     "data": {
      "text/html": [
       "<div>\n",
       "<style scoped>\n",
       "    .dataframe tbody tr th:only-of-type {\n",
       "        vertical-align: middle;\n",
       "    }\n",
       "\n",
       "    .dataframe tbody tr th {\n",
       "        vertical-align: top;\n",
       "    }\n",
       "\n",
       "    .dataframe thead th {\n",
       "        text-align: right;\n",
       "    }\n",
       "</style>\n",
       "<table border=\"1\" class=\"dataframe\">\n",
       "  <thead>\n",
       "    <tr style=\"text-align: right;\">\n",
       "      <th></th>\n",
       "      <th>airline</th>\n",
       "      <th>date_of_journey</th>\n",
       "      <th>source</th>\n",
       "      <th>destination</th>\n",
       "      <th>dep_time</th>\n",
       "      <th>arrival_time</th>\n",
       "      <th>duration</th>\n",
       "      <th>total_stops</th>\n",
       "      <th>additional_info</th>\n",
       "    </tr>\n",
       "  </thead>\n",
       "  <tbody>\n",
       "    <tr>\n",
       "      <th>0</th>\n",
       "      <td>Jet Airways</td>\n",
       "      <td>2019-06-21</td>\n",
       "      <td>Mumbai</td>\n",
       "      <td>Hyderabad</td>\n",
       "      <td>10:20:00</td>\n",
       "      <td>11:50:00</td>\n",
       "      <td>90</td>\n",
       "      <td>0.0</td>\n",
       "      <td>In-flight meal not included</td>\n",
       "    </tr>\n",
       "    <tr>\n",
       "      <th>1</th>\n",
       "      <td>Air India</td>\n",
       "      <td>2019-05-18</td>\n",
       "      <td>Delhi</td>\n",
       "      <td>Cochin</td>\n",
       "      <td>09:00:00</td>\n",
       "      <td>07:40:00</td>\n",
       "      <td>1360</td>\n",
       "      <td>1.0</td>\n",
       "      <td>No Info</td>\n",
       "    </tr>\n",
       "    <tr>\n",
       "      <th>2</th>\n",
       "      <td>Air India</td>\n",
       "      <td>2019-06-12</td>\n",
       "      <td>Kolkata</td>\n",
       "      <td>Banglore</td>\n",
       "      <td>09:10:00</td>\n",
       "      <td>11:05:00</td>\n",
       "      <td>1555</td>\n",
       "      <td>2.0</td>\n",
       "      <td>No Info</td>\n",
       "    </tr>\n",
       "    <tr>\n",
       "      <th>3</th>\n",
       "      <td>Vistara</td>\n",
       "      <td>2019-04-01</td>\n",
       "      <td>Kolkata</td>\n",
       "      <td>Banglore</td>\n",
       "      <td>20:20:00</td>\n",
       "      <td>22:55:00</td>\n",
       "      <td>1595</td>\n",
       "      <td>1.0</td>\n",
       "      <td>No Info</td>\n",
       "    </tr>\n",
       "    <tr>\n",
       "      <th>4</th>\n",
       "      <td>Vistara</td>\n",
       "      <td>2019-06-06</td>\n",
       "      <td>Kolkata</td>\n",
       "      <td>Banglore</td>\n",
       "      <td>17:00:00</td>\n",
       "      <td>10:45:00</td>\n",
       "      <td>1065</td>\n",
       "      <td>1.0</td>\n",
       "      <td>No Info</td>\n",
       "    </tr>\n",
       "    <tr>\n",
       "      <th>...</th>\n",
       "      <td>...</td>\n",
       "      <td>...</td>\n",
       "      <td>...</td>\n",
       "      <td>...</td>\n",
       "      <td>...</td>\n",
       "      <td>...</td>\n",
       "      <td>...</td>\n",
       "      <td>...</td>\n",
       "      <td>...</td>\n",
       "    </tr>\n",
       "    <tr>\n",
       "      <th>635</th>\n",
       "      <td>Air Asia</td>\n",
       "      <td>2019-04-12</td>\n",
       "      <td>Banglore</td>\n",
       "      <td>Delhi</td>\n",
       "      <td>04:55:00</td>\n",
       "      <td>07:45:00</td>\n",
       "      <td>170</td>\n",
       "      <td>0.0</td>\n",
       "      <td>No Info</td>\n",
       "    </tr>\n",
       "    <tr>\n",
       "      <th>636</th>\n",
       "      <td>Jet Airways</td>\n",
       "      <td>2019-05-09</td>\n",
       "      <td>Kolkata</td>\n",
       "      <td>Banglore</td>\n",
       "      <td>09:35:00</td>\n",
       "      <td>21:05:00</td>\n",
       "      <td>690</td>\n",
       "      <td>1.0</td>\n",
       "      <td>No Info</td>\n",
       "    </tr>\n",
       "    <tr>\n",
       "      <th>637</th>\n",
       "      <td>Indigo</td>\n",
       "      <td>2019-05-15</td>\n",
       "      <td>Banglore</td>\n",
       "      <td>Delhi</td>\n",
       "      <td>06:05:00</td>\n",
       "      <td>08:50:00</td>\n",
       "      <td>165</td>\n",
       "      <td>0.0</td>\n",
       "      <td>No Info</td>\n",
       "    </tr>\n",
       "    <tr>\n",
       "      <th>638</th>\n",
       "      <td>Multiple Carriers</td>\n",
       "      <td>2019-05-15</td>\n",
       "      <td>Delhi</td>\n",
       "      <td>Cochin</td>\n",
       "      <td>08:45:00</td>\n",
       "      <td>21:00:00</td>\n",
       "      <td>735</td>\n",
       "      <td>1.0</td>\n",
       "      <td>No Info</td>\n",
       "    </tr>\n",
       "    <tr>\n",
       "      <th>639</th>\n",
       "      <td>Jet Airways</td>\n",
       "      <td>2019-05-21</td>\n",
       "      <td>Kolkata</td>\n",
       "      <td>Banglore</td>\n",
       "      <td>20:00:00</td>\n",
       "      <td>12:00:00</td>\n",
       "      <td>960</td>\n",
       "      <td>1.0</td>\n",
       "      <td>In-flight meal not included</td>\n",
       "    </tr>\n",
       "  </tbody>\n",
       "</table>\n",
       "<p>640 rows × 9 columns</p>\n",
       "</div>"
      ],
      "text/plain": [
       "               airline date_of_journey    source destination  dep_time  \\\n",
       "0          Jet Airways      2019-06-21    Mumbai   Hyderabad  10:20:00   \n",
       "1            Air India      2019-05-18     Delhi      Cochin  09:00:00   \n",
       "2            Air India      2019-06-12   Kolkata    Banglore  09:10:00   \n",
       "3              Vistara      2019-04-01   Kolkata    Banglore  20:20:00   \n",
       "4              Vistara      2019-06-06   Kolkata    Banglore  17:00:00   \n",
       "..                 ...             ...       ...         ...       ...   \n",
       "635           Air Asia      2019-04-12  Banglore       Delhi  04:55:00   \n",
       "636        Jet Airways      2019-05-09   Kolkata    Banglore  09:35:00   \n",
       "637             Indigo      2019-05-15  Banglore       Delhi  06:05:00   \n",
       "638  Multiple Carriers      2019-05-15     Delhi      Cochin  08:45:00   \n",
       "639        Jet Airways      2019-05-21   Kolkata    Banglore  20:00:00   \n",
       "\n",
       "    arrival_time  duration  total_stops              additional_info  \n",
       "0       11:50:00        90          0.0  In-flight meal not included  \n",
       "1       07:40:00      1360          1.0                      No Info  \n",
       "2       11:05:00      1555          2.0                      No Info  \n",
       "3       22:55:00      1595          1.0                      No Info  \n",
       "4       10:45:00      1065          1.0                      No Info  \n",
       "..           ...       ...          ...                          ...  \n",
       "635     07:45:00       170          0.0                      No Info  \n",
       "636     21:05:00       690          1.0                      No Info  \n",
       "637     08:50:00       165          0.0                      No Info  \n",
       "638     21:00:00       735          1.0                      No Info  \n",
       "639     12:00:00       960          1.0  In-flight meal not included  \n",
       "\n",
       "[640 rows x 9 columns]"
      ]
     },
     "execution_count": 15,
     "metadata": {},
     "output_type": "execute_result"
    }
   ],
   "source": [
    "X_train"
   ]
  },
  {
   "cell_type": "code",
   "execution_count": null,
   "id": "87a36d1f-c2ad-498c-bce8-dfad5adb363c",
   "metadata": {},
   "outputs": [
    {
     "data": {
      "text/plain": [
       "0       4995\n",
       "1       8372\n",
       "2       6117\n",
       "3       7770\n",
       "4       9187\n",
       "       ...  \n",
       "635     4282\n",
       "636    13067\n",
       "637     4423\n",
       "638     7670\n",
       "639    10844\n",
       "Name: price, Length: 640, dtype: int64"
      ]
     },
     "execution_count": 6,
     "metadata": {},
     "output_type": "execute_result"
    }
   ],
   "source": [
    "y_train\n"
   ]
  },
  {
   "cell_type": "code",
   "execution_count": 16,
   "id": "6d31d299-c5e8-49fb-95b7-6bd58b440a0e",
   "metadata": {},
   "outputs": [
    {
     "name": "stdout",
     "output_type": "stream",
     "text": [
      "(160, 9) (160,)\n"
     ]
    }
   ],
   "source": [
    "X_val, y_val = split_data(val_df)\n",
    "\n",
    "print(X_val.shape, y_val.shape)"
   ]
  },
  {
   "cell_type": "code",
   "execution_count": 17,
   "id": "1a3fd379-26e0-46cc-a3f5-37f2ed9d4371",
   "metadata": {},
   "outputs": [
    {
     "name": "stdout",
     "output_type": "stream",
     "text": [
      "(200, 9) (200,)\n"
     ]
    }
   ],
   "source": [
    "X_test, y_test = split_data(test_df)\n",
    "\n",
    "print(X_test.shape, y_test.shape)"
   ]
  },
  {
   "cell_type": "markdown",
   "id": "20ea229e-a94b-4585-abc0-994bce54d785",
   "metadata": {},
   "source": [
    "### 3.2 Meta-info"
   ]
  },
  {
   "cell_type": "code",
   "execution_count": 18,
   "id": "2bb6d88a-b8fb-471b-afc1-b84f79716a7c",
   "metadata": {},
   "outputs": [
    {
     "name": "stdout",
     "output_type": "stream",
     "text": [
      "<class 'pandas.core.frame.DataFrame'>\n",
      "RangeIndex: 640 entries, 0 to 639\n",
      "Data columns (total 9 columns):\n",
      " #   Column           Non-Null Count  Dtype  \n",
      "---  ------           --------------  -----  \n",
      " 0   airline          640 non-null    object \n",
      " 1   date_of_journey  640 non-null    object \n",
      " 2   source           640 non-null    object \n",
      " 3   destination      640 non-null    object \n",
      " 4   dep_time         640 non-null    object \n",
      " 5   arrival_time     640 non-null    object \n",
      " 6   duration         640 non-null    int64  \n",
      " 7   total_stops      640 non-null    float64\n",
      " 8   additional_info  640 non-null    object \n",
      "dtypes: float64(1), int64(1), object(7)\n",
      "memory usage: 45.1+ KB\n"
     ]
    }
   ],
   "source": [
    "X_train.info()"
   ]
  },
  {
   "cell_type": "markdown",
   "id": "2370446d-763c-4fed-adec-f1ab56303b76",
   "metadata": {},
   "source": [
    "## 4. Data Preprocessing"
   ]
  },
  {
   "cell_type": "code",
   "execution_count": 19,
   "id": "843ca079-e59c-41f0-a3df-144f62b34798",
   "metadata": {},
   "outputs": [],
   "source": [
    "dt_cols = [\"date_of_journey\", \"dep_time\", \"arrival_time\"]\n",
    "\n",
    "num_cols = [\"duration\", \"total_stops\"]\n",
    "\n",
    "cat_cols = [col for col in X_train.columns if (col not in dt_cols) and (col not in num_cols)]"
   ]
  },
  {
   "cell_type": "code",
   "execution_count": 20,
   "id": "4d07da86-155a-401a-8a52-2829f649d654",
   "metadata": {},
   "outputs": [
    {
     "data": {
      "text/plain": [
       "['airline', 'source', 'destination', 'additional_info']"
      ]
     },
     "execution_count": 20,
     "metadata": {},
     "output_type": "execute_result"
    }
   ],
   "source": [
    "cat_cols"
   ]
  },
  {
   "cell_type": "code",
   "execution_count": 32,
   "id": "7264ac90-d7fd-4c49-973c-0beb54e44864",
   "metadata": {},
   "outputs": [],
   "source": [
    "num_transformer = Pipeline(steps=[\n",
    "\t(\"imputer\", SimpleImputer(strategy=\"median\")),\n",
    "\t(\"scaler\", StandardScaler())\n",
    "])\n",
    "\n",
    "cat_transformer = Pipeline(steps=[\n",
    "\t(\"imputer\", SimpleImputer(strategy=\"most_frequent\")),\n",
    "\t(\"encoder\", OneHotEncoder(handle_unknown=\"ignore\"))\n",
    "])\n",
    "\n",
    "doj_transformer = Pipeline(steps=[\n",
    "\t(\"imputer\", SimpleImputer(strategy=\"most_frequent\")),\n",
    "\t(\"extractor\", DatetimeFeatures(features_to_extract=[\"month\", \"week\", \"day_of_week\", \"day_of_month\"])),\n",
    "\t(\"scaler\", StandardScaler())\n",
    "])\n",
    "\n",
    "time_transformer = Pipeline(steps=[\n",
    "\t(\"imputer\", SimpleImputer(strategy=\"most_frequent\")),\n",
    "\t(\"extractor\", DatetimeFeatures(features_to_extract=[\"hour\", \"minute\"])),\n",
    "\t(\"scaler\", StandardScaler())\n",
    "])"
   ]
  },
  {
   "cell_type": "code",
   "execution_count": 33,
   "id": "e3b2f53c-a9d2-4e8f-9e66-656cc3b73774",
   "metadata": {},
   "outputs": [],
   "source": [
    "preprocessor = ColumnTransformer(transformers=[\n",
    "\t(\"num\", num_transformer, num_cols),\n",
    "\t(\"cat\", cat_transformer, cat_cols),\n",
    "\t(\"doj\", doj_transformer, [\"date_of_journey\"]),\n",
    "\t(\"time\", time_transformer, [\"dep_time\", \"arrival_time\"])\n",
    "])"
   ]
  },
  {
   "cell_type": "code",
   "execution_count": 34,
   "id": "11098f72",
   "metadata": {},
   "outputs": [
    {
     "data": {
      "text/plain": [
       "ColumnTransformer(transformers=[('num',\n",
       "                                 Pipeline(steps=[('imputer',\n",
       "                                                  SimpleImputer(strategy='median')),\n",
       "                                                 ('scaler', StandardScaler())]),\n",
       "                                 ['duration', 'total_stops']),\n",
       "                                ('cat',\n",
       "                                 Pipeline(steps=[('imputer',\n",
       "                                                  SimpleImputer(strategy='most_frequent')),\n",
       "                                                 ('encoder',\n",
       "                                                  OneHotEncoder(handle_unknown='ignore'))]),\n",
       "                                 ['airline', 'source', 'destination',\n",
       "                                  'additional_info']),\n",
       "                                ('doj',\n",
       "                                 Pip...\n",
       "                                                 ('extractor',\n",
       "                                                  DatetimeFeatures(features_to_extract=['month',\n",
       "                                                                                        'week',\n",
       "                                                                                        'day_of_week',\n",
       "                                                                                        'day_of_month'])),\n",
       "                                                 ('scaler', StandardScaler())]),\n",
       "                                 ['date_of_journey']),\n",
       "                                ('time',\n",
       "                                 Pipeline(steps=[('imputer',\n",
       "                                                  SimpleImputer(strategy='most_frequent')),\n",
       "                                                 ('extractor',\n",
       "                                                  DatetimeFeatures(features_to_extract=['hour',\n",
       "                                                                                        'minute'])),\n",
       "                                                 ('scaler', StandardScaler())]),\n",
       "                                 ['dep_time', 'arrival_time'])])"
      ]
     },
     "execution_count": 34,
     "metadata": {},
     "output_type": "execute_result"
    }
   ],
   "source": [
    "preprocessor"
   ]
  },
  {
   "cell_type": "code",
   "execution_count": 35,
   "id": "6c0e7d4a-101d-4632-ad5b-c545fc03cb6b",
   "metadata": {},
   "outputs": [
    {
     "data": {
      "text/plain": [
       "array([[-1.09591823, -1.21213152,  0.        , ..., -0.14005709,\n",
       "        -0.34523131,  1.49385907],\n",
       "       [ 1.43569944,  0.31797533,  0.        , ..., -1.22986299,\n",
       "        -0.93560684,  0.89104078],\n",
       "       [ 1.82441239,  1.84808218,  0.        , ..., -0.68496004,\n",
       "        -0.34523131, -1.21882323],\n",
       "       ...,\n",
       "       [-0.94641325, -1.21213152,  0.        , ..., -0.95741152,\n",
       "        -0.78801296,  1.49385907],\n",
       "       [ 0.18982461,  0.31797533,  0.        , ...,  1.22220029,\n",
       "         1.1307075 , -1.52023237],\n",
       "       [ 0.63833955,  0.31797533,  0.        , ..., -1.22986299,\n",
       "        -0.19763743, -1.52023237]])"
      ]
     },
     "execution_count": 35,
     "metadata": {},
     "output_type": "execute_result"
    }
   ],
   "source": [
    "preprocessor.fit_transform(X_train)"
   ]
  },
  {
   "cell_type": "code",
   "execution_count": null,
   "id": "e575b7af-8d78-494c-860c-92c66900d85f",
   "metadata": {},
   "outputs": [
    {
     "data": {
      "text/plain": [
       "(640, 33)"
      ]
     },
     "execution_count": 32,
     "metadata": {},
     "output_type": "execute_result"
    }
   ],
   "source": [
    "preprocessor.fit_transform(X_train).shape"
   ]
  },
  {
   "cell_type": "markdown",
   "id": "f4ae7970-8591-4851-bdfb-df117e1413db",
   "metadata": {},
   "source": [
    "## 5. Model Selection"
   ]
  },
  {
   "cell_type": "code",
   "execution_count": 36,
   "id": "ded50a1a-af5c-4a67-9b1f-2f79042ee2db",
   "metadata": {},
   "outputs": [],
   "source": [
    "algorithms = {\n",
    "\t\"Linear Regression\": LinearRegression(),\n",
    "\t\"Support Vector Machine\": SVR(),\n",
    "\t\"Random Forest\": RandomForestRegressor(n_estimators=10),\n",
    "\t\"XG Boost\": XGBRegressor(n_estimators=10)\n",
    "}"
   ]
  },
  {
   "cell_type": "code",
   "execution_count": 37,
   "id": "7cb950c7-7145-4a1e-900c-fc970e4422ff",
   "metadata": {},
   "outputs": [
    {
     "name": "stdout",
     "output_type": "stream",
     "text": [
      "(800, 9) (800,)\n"
     ]
    }
   ],
   "source": [
    "data = pd.concat([train_df, val_df], axis=0)\n",
    "\n",
    "X_data, y_data = split_data(data)\n",
    "print(X_data.shape, y_data.shape)"
   ]
  },
  {
   "cell_type": "code",
   "execution_count": 38,
   "id": "0197c2d6-786a-405b-8101-960ad3fc3bcb",
   "metadata": {},
   "outputs": [],
   "source": [
    "def plot_curves(sizes, mean_scores, std_scores, label, ax):\n",
    "\tax.plot(\n",
    "\t\tsizes,\n",
    "\t\tmean_scores,\n",
    "\t\tmarker=\"o\",\n",
    "\t\tlabel=label\n",
    "\t)\n",
    "\n",
    "\tax.fill_between(\n",
    "\t\tx=sizes,\n",
    "\t\ty1=mean_scores - std_scores,\n",
    "\t\ty2=mean_scores + std_scores,\n",
    "\t\talpha=0.5\n",
    "\t)"
   ]
  },
  {
   "cell_type": "code",
   "execution_count": 39,
   "id": "c47f6bc5-7a3c-44bd-bad2-c0de1f159469",
   "metadata": {},
   "outputs": [],
   "source": [
    "def plot_learning_curves(name, algorithm, figsize=(12, 4)):\n",
    "\tmodel = Pipeline(steps=[\n",
    "\t\t(\"pre\", preprocessor),\n",
    "\t\t(\"alg\", algorithm)\n",
    "\t])\n",
    "\n",
    "\ttrain_sizes, train_scores, test_scores = learning_curve(\n",
    "\t\testimator=model,\n",
    "\t\tX=X_data,\n",
    "\t\ty=y_data,\n",
    "\t\tcv=3,\n",
    "\t\tscoring=\"r2\",\n",
    "\t\tn_jobs=-1,\n",
    "\t\trandom_state=42\n",
    "\t)\n",
    "\t\n",
    "\tmean_train_scores = np.mean(train_scores, axis=1)\n",
    "\tstd_train_scores = np.std(train_scores, axis=1)\n",
    "\ttrain_score = f\"{mean_train_scores[-1]:.2f} +/- {std_train_scores[-1]:.2f}\"\n",
    "\n",
    "\tmean_test_scores = np.mean(test_scores, axis=1)\n",
    "\tstd_test_scores = np.std(test_scores, axis=1)\n",
    "\ttest_score = f\"{mean_test_scores[-1]:.2f} +/- {std_test_scores[-1]:.2f}\"\n",
    "\n",
    "\tfig, ax = plt.subplots(figsize=figsize)\n",
    "\n",
    "\t# training curve\n",
    "\tplot_curves(\n",
    "\t\ttrain_sizes,\n",
    "\t\tmean_train_scores,\n",
    "\t\tstd_train_scores,\n",
    "\t\tf\"Train ({train_score})\",\n",
    "\t\tax\n",
    "\t)\n",
    "\n",
    "\t# test curve\n",
    "\tplot_curves(\n",
    "\t\ttrain_sizes,\n",
    "\t\tmean_test_scores,\n",
    "\t\tstd_test_scores,\n",
    "\t\tf\"Test ({test_score})\",\n",
    "\t\tax\n",
    "\t)\n",
    "\n",
    "\tax.set(xlabel=\"Training Set Size\", ylabel=\"R-square\", title=name)\n",
    "\n",
    "\tax.legend(loc=\"lower right\")\n",
    "\n",
    "\tplt.show()"
   ]
  },
  {
   "cell_type": "code",
   "execution_count": 40,
   "id": "81ed69b1-52cc-4860-92b6-1e59148b15c2",
   "metadata": {},
   "outputs": [
    {
     "data": {
      "image/png": "[encoded data removed]",
      "text/plain": [
       "<Figure size 864x288 with 1 Axes>"
      ]
     },
     "metadata": {
      "needs_background": "light"
     },
     "output_type": "display_data"
    },
    {
     "data": {
      "image/png": "[encoded data removed]",
      "text/plain": [
       "<Figure size 864x288 with 1 Axes>"
      ]
     },
     "metadata": {
      "needs_background": "light"
     },
     "output_type": "display_data"
    },
    {
     "data": {
      "image/png": "[encoded data removed]",
      "text/plain": [
       "<Figure size 864x288 with 1 Axes>"
      ]
     },
     "metadata": {
      "needs_background": "light"
     },
     "output_type": "display_data"
    },
    {
     "data": {
      "image/png": "[encoded data removed]",
      "text/plain": [
       "<Figure size 864x288 with 1 Axes>"
      ]
     },
     "metadata": {
      "needs_background": "light"
     },
     "output_type": "display_data"
    }
   ],
   "source": [
    "for name, alg in algorithms.items():\n",
    "\tplot_learning_curves(name, alg)"
   ]
  },
  {
   "cell_type": "markdown",
   "id": "c6123a5d-1577-4147-a8ed-bf1e24d0f227",
   "metadata": {},
   "source": [
    "## 6. Model Training"
   ]
  },
  {
   "cell_type": "code",
   "execution_count": 41,
   "id": "bcfb914b-53ad-4351-8619-88eaa2a37ff4",
   "metadata": {},
   "outputs": [],
   "source": [
    "model = Pipeline(steps=[\n",
    "\t(\"pre\", preprocessor),\n",
    "\t(\"rf\", RandomForestRegressor(n_estimators=10))\n",
    "])"
   ]
  },
  {
   "cell_type": "code",
   "execution_count": 42,
   "id": "3fddda3d-efd4-4418-b7ca-d8327604a688",
   "metadata": {},
   "outputs": [
    {
     "data": {
      "text/plain": [
       "Pipeline(steps=[('pre',\n",
       "                 ColumnTransformer(transformers=[('num',\n",
       "                                                  Pipeline(steps=[('imputer',\n",
       "                                                                   SimpleImputer(strategy='median')),\n",
       "                                                                  ('scaler',\n",
       "                                                                   StandardScaler())]),\n",
       "                                                  ['duration', 'total_stops']),\n",
       "                                                 ('cat',\n",
       "                                                  Pipeline(steps=[('imputer',\n",
       "                                                                   SimpleImputer(strategy='most_frequent')),\n",
       "                                                                  ('encoder',\n",
       "                                                                   OneHotEncoder(handle_unknown='ignore'))]),\n",
       "                                                  ['airline', 'source',\n",
       "                                                   'destination',\n",
       "                                                   'additi...\n",
       "                                                                   DatetimeFeatures(features_to_extract=['month',\n",
       "                                                                                                         'week',\n",
       "                                                                                                         'day_of_week',\n",
       "                                                                                                         'day_of_month'])),\n",
       "                                                                  ('scaler',\n",
       "                                                                   StandardScaler())]),\n",
       "                                                  ['date_of_journey']),\n",
       "                                                 ('time',\n",
       "                                                  Pipeline(steps=[('imputer',\n",
       "                                                                   SimpleImputer(strategy='most_frequent')),\n",
       "                                                                  ('extractor',\n",
       "                                                                   DatetimeFeatures(features_to_extract=['hour',\n",
       "                                                                                                         'minute'])),\n",
       "                                                                  ('scaler',\n",
       "                                                                   StandardScaler())]),\n",
       "                                                  ['dep_time',\n",
       "                                                   'arrival_time'])])),\n",
       "                ('rf', RandomForestRegressor(n_estimators=10))])"
      ]
     },
     "execution_count": 42,
     "metadata": {},
     "output_type": "execute_result"
    }
   ],
   "source": [
    "model.fit(X_data, y_data)"
   ]
  },
  {
   "cell_type": "markdown",
   "id": "170963e4-8425-492b-81ea-59b83f537e6e",
   "metadata": {},
   "source": [
    "## 7. Model Evaluation"
   ]
  },
  {
   "cell_type": "code",
   "execution_count": 43,
   "id": "a2a5ceaa-14a1-479f-9324-9654bc7ac4a6",
   "metadata": {},
   "outputs": [],
   "source": [
    "def evaluate_model(X, y):\n",
    "\ty_pred = model.predict(X)\n",
    "\treturn r2_score(y, y_pred)"
   ]
  },
  {
   "cell_type": "code",
   "execution_count": 44,
   "id": "d8792845-e009-4c9d-9963-016c866971f7",
   "metadata": {},
   "outputs": [
    {
     "name": "stdout",
     "output_type": "stream",
     "text": [
      "R2 score on Training data is = 0.9561586609287245\n"
     ]
    }
   ],
   "source": [
    "print(f\"R2 score on Training data is = {evaluate_model(X_data, y_data)}\")"
   ]
  },
  {
   "cell_type": "code",
   "execution_count": 45,
   "id": "44f5f83e-1caa-47a6-98fe-69f206382e1d",
   "metadata": {},
   "outputs": [
    {
     "name": "stdout",
     "output_type": "stream",
     "text": [
      "R2 score on Test data is = 0.6685822069792782\n"
     ]
    }
   ],
   "source": [
    "print(f\"R2 score on Test data is = {evaluate_model(X_test, y_test)}\")"
   ]
  },
  {
   "cell_type": "markdown",
   "id": "92d0132a-83d8-4683-b31c-d20ec3770382",
   "metadata": {},
   "source": [
    "## 8. Model Persistence"
   ]
  },
  {
   "cell_type": "code",
   "execution_count": 49,
   "id": "97e0e065-f98e-429c-bae6-d30f81b2e94a",
   "metadata": {},
   "outputs": [
    {
     "data": {
      "text/plain": [
       "['model.joblib']"
      ]
     },
     "execution_count": 49,
     "metadata": {},
     "output_type": "execute_result"
    }
   ],
   "source": [
    "joblib.dump(model, \"model.joblib\")"
   ]
  },
  {
   "cell_type": "code",
   "execution_count": 51,
   "id": "db8413c6-898c-468a-8762-0d1b47b1a4b1",
   "metadata": {},
   "outputs": [
    {
     "data": {
      "text/plain": [
       "Pipeline(steps=[('pre',\n",
       "                 ColumnTransformer(transformers=[('num',\n",
       "                                                  Pipeline(steps=[('imputer',\n",
       "                                                                   SimpleImputer(strategy='median')),\n",
       "                                                                  ('scaler',\n",
       "                                                                   StandardScaler())]),\n",
       "                                                  ['duration', 'total_stops']),\n",
       "                                                 ('cat',\n",
       "                                                  Pipeline(steps=[('imputer',\n",
       "                                                                   SimpleImputer(strategy='most_frequent')),\n",
       "                                                                  ('encoder',\n",
       "                                                                   OneHotEncoder(handle_unknown='ignore'))]),\n",
       "                                                  ['airline', 'source',\n",
       "                                                   'destination',\n",
       "                                                   'additi...\n",
       "                                                                   DatetimeFeatures(features_to_extract=['month',\n",
       "                                                                                                         'week',\n",
       "                                                                                                         'day_of_week',\n",
       "                                                                                                         'day_of_month'])),\n",
       "                                                                  ('scaler',\n",
       "                                                                   StandardScaler())]),\n",
       "                                                  ['date_of_journey']),\n",
       "                                                 ('time',\n",
       "                                                  Pipeline(steps=[('imputer',\n",
       "                                                                   SimpleImputer(strategy='most_frequent')),\n",
       "                                                                  ('extractor',\n",
       "                                                                   DatetimeFeatures(features_to_extract=['hour',\n",
       "                                                                                                         'minute'])),\n",
       "                                                                  ('scaler',\n",
       "                                                                   StandardScaler())]),\n",
       "                                                  ['dep_time',\n",
       "                                                   'arrival_time'])])),\n",
       "                ('rf', RandomForestRegressor(n_estimators=10))])"
      ]
     },
     "execution_count": 51,
     "metadata": {},
     "output_type": "execute_result"
    }
   ],
   "source": [
    "saved_model = joblib.load(\"model.joblib\")\n",
    "saved_model"
   ]
  },
  {
   "cell_type": "code",
   "execution_count": 52,
   "id": "ad8962dd-04e0-4de7-9827-5f276f21f858",
   "metadata": {},
   "outputs": [
    {
     "data": {
      "text/plain": [
       "0.6685822069792782"
      ]
     },
     "execution_count": 52,
     "metadata": {},
     "output_type": "execute_result"
    }
   ],
   "source": [
    "y_pred = saved_model.predict(X_test)\n",
    "\n",
    "r2_score(y_test, y_pred)"
   ]
  },
  {
   "cell_type": "code",
   "execution_count": null,
   "id": "0896b801",
   "metadata": {},
   "outputs": [],
   "source": []
  }
 ],
 "metadata": {
  "kernelspec": {
   "display_name": "Python 3",
   "language": "python",
   "name": "python3"
  },
  "language_info": {
   "codemirror_mode": {
    "name": "ipython",
    "version": 3
   },
   "file_extension": ".py",
   "mimetype": "text/x-python",
   "name": "python",
   "nbconvert_exporter": "python",
   "pygments_lexer": "ipython3",
   "version": "3.6.13"
  }
 },
 "nbformat": 4,
 "nbformat_minor": 5
}
